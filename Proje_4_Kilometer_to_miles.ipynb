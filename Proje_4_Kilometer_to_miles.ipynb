{
  "nbformat": 4,
  "nbformat_minor": 0,
  "metadata": {
    "colab": {
      "name": "Proje 4: Kilometer to miles.ipynb",
      "provenance": [],
      "collapsed_sections": [],
      "authorship_tag": "ABX9TyMEbx05L9wlYZnLGO2VMu2D",
      "include_colab_link": true
    },
    "kernelspec": {
      "name": "python3",
      "display_name": "Python 3"
    },
    "language_info": {
      "name": "python"
    }
  },
  "cells": [
    {
      "cell_type": "markdown",
      "metadata": {
        "id": "view-in-github",
        "colab_type": "text"
      },
      "source": [
        "<a href=\"https://colab.research.google.com/github/ahmetbildirici/hu-bby261-2021-proje4/blob/main/Proje_4_Kilometer_to_miles.ipynb\" target=\"_parent\"><img src=\"https://colab.research.google.com/assets/colab-badge.svg\" alt=\"Open In Colab\"/></a>"
      ]
    },
    {
      "cell_type": "code",
      "execution_count": 16,
      "metadata": {
        "colab": {
          "base_uri": "https://localhost:8080/",
          "height": 608
        },
        "id": "w_hOwb2jUVt0",
        "outputId": "46aee540-4de5-430d-a30d-44630858e757"
      },
      "outputs": [
        {
          "output_type": "stream",
          "name": "stdout",
          "text": [
            "Tahmin sayısı giriniz: 19\n",
            "19 sayısı tahmin edilecek...\n",
            "Tekrar sayısı giriniz: 400\n",
            "Model 400 kere tekrar edilecek...\n",
            "-34.0 kilometre = -21.12 mil\n",
            "-20.0 kilometre = -12.42 mil\n",
            "7.0 kilometre = -4.34 mil\n",
            "5.0 kilometre = 3.1 mil\n",
            "4.0 kilometre = 2.48 mil\n",
            "17.0 kilometre = 10.56 mil\n",
            "25.0 kilometre = 15.53 mil\n",
            "40.0 kilometre = 24.85 mil\n",
            "52.0 kilometre = 32.31 mil\n",
            "70.0 kilometre = 43.49 mil\n",
            "Model eğitimi sona erdi.\n",
            "Grafik çıkartılıyor...\n",
            "Doğru tahmin : 11.78\n",
            "Modelin tahmini : [[10.9700775]]\n"
          ]
        },
        {
          "output_type": "display_data",
          "data": {
            "image/png": "[encoded data removed]",
            "text/plain": [
              "<Figure size 432x288 with 1 Axes>"
            ]
          },
          "metadata": {
            "needs_background": "light"
          }
        }
      ],
      "source": [
        "#\n",
        "from numpy.core.arrayprint import IntegerFormat\n",
        "import tensorflow as tf\n",
        "import numpy as np\n",
        "import logging\n",
        "import matplotlib.pyplot as plt\n",
        "import time\n",
        "#\n",
        "tahminSayi=int(input(\"Tahmin sayısını km cinsinden giriniz: \"))\n",
        "print(str(tahminSayi) + \" sayısı tahmin edilecek...\")\n",
        "time.sleep(2)\n",
        "tekrarSayi=int(input(\"Tekrar sayısı giriniz: \"))\n",
        "print(\"Model \" + str(tekrarSayi) + \" kere tekrar edilecek...\")\n",
        "time.sleep(2)\n",
        "\n",
        "logger = tf.get_logger()\n",
        "logger.setLevel(logging.ERROR)\n",
        "\n",
        "km    = np.array([-34, -20, 7, 5, 4, 17, 25, 40, 52, 70],  dtype=float)\n",
        "mil = np.array([-21.12, -12.42, -4.34, 3.10, 2.48, 10.56, 15.53, 24.85, 32.31, 43.49],  dtype=float)\n",
        "\n",
        "for i,c in enumerate(km):\n",
        "  print(\"{} kilometre = {} mil\".format(c, mil[i]))\n",
        "\n",
        "l0 = tf.keras.layers.Dense(units=1, input_shape=[1])\n",
        "\n",
        "model = tf.keras.Sequential([l0])\n",
        "model.compile(loss='mean_squared_error',\n",
        "              optimizer=tf.keras.optimizers.Adam(0.1))\n",
        "\n",
        "history = model.fit(km, mil, epochs=tekrarSayi, verbose=False)\n",
        "\n",
        "print(\"Model eğitimi sona erdi.\")\n",
        "print(\"Grafik çıkartılıyor...\")\n",
        "time.sleep(2)\n",
        "\n",
        "plt.xlabel('Epoch Number')\n",
        "plt.ylabel(\"Loss Magnitude\")\n",
        "plt.plot(history.history['loss'])\n",
        "\n",
        "dogruTahmin = float(tahminSayi) * 0.62\n",
        "print(\"Doğru sayı : \" + str(dogruTahmin))\n",
        "tahminSonuc = model.predict([tahminSayi])\n",
        "print(\"Modelin tahmini : \" + str(tahminSonuc))"
      ]
    }
  ]
}